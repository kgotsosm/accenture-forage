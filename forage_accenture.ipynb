{
 "cells": [
  {
   "cell_type": "markdown",
   "source": [
    "# Accenture Data Analysis"
   ],
   "metadata": {
    "collapsed": false
   }
  },
  {
   "cell_type": "code",
   "execution_count": 1,
   "outputs": [],
   "source": [
    "import pandas as pd"
   ],
   "metadata": {
    "collapsed": false
   }
  },
  {
   "cell_type": "markdown",
   "source": [
    "### Clean The Data"
   ],
   "metadata": {
    "collapsed": false
   }
  },
  {
   "cell_type": "code",
   "execution_count": 24,
   "outputs": [
    {
     "data": {
      "text/plain": "                             Content ID Reaction Type             Datetime  \\\n0  97522e57-d9ab-4bd6-97bf-c24d952602d2       disgust  2020-11-07 09:43:50   \n1  97522e57-d9ab-4bd6-97bf-c24d952602d2       dislike  2021-06-17 12:22:51   \n2  97522e57-d9ab-4bd6-97bf-c24d952602d2        scared  2021-04-18 05:13:58   \n3  97522e57-d9ab-4bd6-97bf-c24d952602d2       disgust  2021-01-06 19:13:01   \n4  97522e57-d9ab-4bd6-97bf-c24d952602d2    interested  2020-08-23 12:25:58   \n\n  Content Type  Category  \n0        photo  Studying  \n1        photo  Studying  \n2        photo  Studying  \n3        photo  Studying  \n4        photo  Studying  ",
      "text/html": "<div>\n<style scoped>\n    .dataframe tbody tr th:only-of-type {\n        vertical-align: middle;\n    }\n\n    .dataframe tbody tr th {\n        vertical-align: top;\n    }\n\n    .dataframe thead th {\n        text-align: right;\n    }\n</style>\n<table border=\"1\" class=\"dataframe\">\n  <thead>\n    <tr style=\"text-align: right;\">\n      <th></th>\n      <th>Content ID</th>\n      <th>Reaction Type</th>\n      <th>Datetime</th>\n      <th>Content Type</th>\n      <th>Category</th>\n    </tr>\n  </thead>\n  <tbody>\n    <tr>\n      <th>0</th>\n      <td>97522e57-d9ab-4bd6-97bf-c24d952602d2</td>\n      <td>disgust</td>\n      <td>2020-11-07 09:43:50</td>\n      <td>photo</td>\n      <td>Studying</td>\n    </tr>\n    <tr>\n      <th>1</th>\n      <td>97522e57-d9ab-4bd6-97bf-c24d952602d2</td>\n      <td>dislike</td>\n      <td>2021-06-17 12:22:51</td>\n      <td>photo</td>\n      <td>Studying</td>\n    </tr>\n    <tr>\n      <th>2</th>\n      <td>97522e57-d9ab-4bd6-97bf-c24d952602d2</td>\n      <td>scared</td>\n      <td>2021-04-18 05:13:58</td>\n      <td>photo</td>\n      <td>Studying</td>\n    </tr>\n    <tr>\n      <th>3</th>\n      <td>97522e57-d9ab-4bd6-97bf-c24d952602d2</td>\n      <td>disgust</td>\n      <td>2021-01-06 19:13:01</td>\n      <td>photo</td>\n      <td>Studying</td>\n    </tr>\n    <tr>\n      <th>4</th>\n      <td>97522e57-d9ab-4bd6-97bf-c24d952602d2</td>\n      <td>interested</td>\n      <td>2020-08-23 12:25:58</td>\n      <td>photo</td>\n      <td>Studying</td>\n    </tr>\n  </tbody>\n</table>\n</div>"
     },
     "execution_count": 24,
     "metadata": {},
     "output_type": "execute_result"
    }
   ],
   "source": [
    "cleaned_draft = pd.read_excel('merged.xlsx')\n",
    "cleaned_draft.head()"
   ],
   "metadata": {
    "collapsed": false
   }
  },
  {
   "cell_type": "code",
   "execution_count": 25,
   "outputs": [
    {
     "data": {
      "text/plain": "                             Content ID Reaction Type             Datetime  \\\n0  97522e57-d9ab-4bd6-97bf-c24d952602d2       disgust  2020-11-07 09:43:50   \n1  97522e57-d9ab-4bd6-97bf-c24d952602d2       dislike  2021-06-17 12:22:51   \n2  97522e57-d9ab-4bd6-97bf-c24d952602d2        scared  2021-04-18 05:13:58   \n3  97522e57-d9ab-4bd6-97bf-c24d952602d2       disgust  2021-01-06 19:13:01   \n4  97522e57-d9ab-4bd6-97bf-c24d952602d2    interested  2020-08-23 12:25:58   \n\n  Content Type  Category Sentiment  Score  \n0        photo  Studying  negative      0  \n1        photo  Studying  negative     10  \n2        photo  Studying  negative     15  \n3        photo  Studying  negative      0  \n4        photo  Studying  positive     30  ",
      "text/html": "<div>\n<style scoped>\n    .dataframe tbody tr th:only-of-type {\n        vertical-align: middle;\n    }\n\n    .dataframe tbody tr th {\n        vertical-align: top;\n    }\n\n    .dataframe thead th {\n        text-align: right;\n    }\n</style>\n<table border=\"1\" class=\"dataframe\">\n  <thead>\n    <tr style=\"text-align: right;\">\n      <th></th>\n      <th>Content ID</th>\n      <th>Reaction Type</th>\n      <th>Datetime</th>\n      <th>Content Type</th>\n      <th>Category</th>\n      <th>Sentiment</th>\n      <th>Score</th>\n    </tr>\n  </thead>\n  <tbody>\n    <tr>\n      <th>0</th>\n      <td>97522e57-d9ab-4bd6-97bf-c24d952602d2</td>\n      <td>disgust</td>\n      <td>2020-11-07 09:43:50</td>\n      <td>photo</td>\n      <td>Studying</td>\n      <td>negative</td>\n      <td>0</td>\n    </tr>\n    <tr>\n      <th>1</th>\n      <td>97522e57-d9ab-4bd6-97bf-c24d952602d2</td>\n      <td>dislike</td>\n      <td>2021-06-17 12:22:51</td>\n      <td>photo</td>\n      <td>Studying</td>\n      <td>negative</td>\n      <td>10</td>\n    </tr>\n    <tr>\n      <th>2</th>\n      <td>97522e57-d9ab-4bd6-97bf-c24d952602d2</td>\n      <td>scared</td>\n      <td>2021-04-18 05:13:58</td>\n      <td>photo</td>\n      <td>Studying</td>\n      <td>negative</td>\n      <td>15</td>\n    </tr>\n    <tr>\n      <th>3</th>\n      <td>97522e57-d9ab-4bd6-97bf-c24d952602d2</td>\n      <td>disgust</td>\n      <td>2021-01-06 19:13:01</td>\n      <td>photo</td>\n      <td>Studying</td>\n      <td>negative</td>\n      <td>0</td>\n    </tr>\n    <tr>\n      <th>4</th>\n      <td>97522e57-d9ab-4bd6-97bf-c24d952602d2</td>\n      <td>interested</td>\n      <td>2020-08-23 12:25:58</td>\n      <td>photo</td>\n      <td>Studying</td>\n      <td>positive</td>\n      <td>30</td>\n    </tr>\n  </tbody>\n</table>\n</div>"
     },
     "execution_count": 25,
     "metadata": {},
     "output_type": "execute_result"
    }
   ],
   "source": [
    "draft_final = cleaned_draft.merge(reaction_types, on='Reaction Type', how='left')\n",
    "draft_final.head()"
   ],
   "metadata": {
    "collapsed": false
   }
  },
  {
   "cell_type": "code",
   "execution_count": 31,
   "outputs": [
    {
     "data": {
      "text/plain": "                             Content ID Reaction Type             Datetime  \\\n0  97522e57-d9ab-4bd6-97bf-c24d952602d2       disgust  2020-11-07 09:43:50   \n1  97522e57-d9ab-4bd6-97bf-c24d952602d2       dislike  2021-06-17 12:22:51   \n2  97522e57-d9ab-4bd6-97bf-c24d952602d2        scared  2021-04-18 05:13:58   \n3  97522e57-d9ab-4bd6-97bf-c24d952602d2       disgust  2021-01-06 19:13:01   \n4  97522e57-d9ab-4bd6-97bf-c24d952602d2    interested  2020-08-23 12:25:58   \n\n  Content Type  Category Sentiment  Score  \n0        photo  studying  negative      0  \n1        photo  studying  negative     10  \n2        photo  studying  negative     15  \n3        photo  studying  negative      0  \n4        photo  studying  positive     30  ",
      "text/html": "<div>\n<style scoped>\n    .dataframe tbody tr th:only-of-type {\n        vertical-align: middle;\n    }\n\n    .dataframe tbody tr th {\n        vertical-align: top;\n    }\n\n    .dataframe thead th {\n        text-align: right;\n    }\n</style>\n<table border=\"1\" class=\"dataframe\">\n  <thead>\n    <tr style=\"text-align: right;\">\n      <th></th>\n      <th>Content ID</th>\n      <th>Reaction Type</th>\n      <th>Datetime</th>\n      <th>Content Type</th>\n      <th>Category</th>\n      <th>Sentiment</th>\n      <th>Score</th>\n    </tr>\n  </thead>\n  <tbody>\n    <tr>\n      <th>0</th>\n      <td>97522e57-d9ab-4bd6-97bf-c24d952602d2</td>\n      <td>disgust</td>\n      <td>2020-11-07 09:43:50</td>\n      <td>photo</td>\n      <td>studying</td>\n      <td>negative</td>\n      <td>0</td>\n    </tr>\n    <tr>\n      <th>1</th>\n      <td>97522e57-d9ab-4bd6-97bf-c24d952602d2</td>\n      <td>dislike</td>\n      <td>2021-06-17 12:22:51</td>\n      <td>photo</td>\n      <td>studying</td>\n      <td>negative</td>\n      <td>10</td>\n    </tr>\n    <tr>\n      <th>2</th>\n      <td>97522e57-d9ab-4bd6-97bf-c24d952602d2</td>\n      <td>scared</td>\n      <td>2021-04-18 05:13:58</td>\n      <td>photo</td>\n      <td>studying</td>\n      <td>negative</td>\n      <td>15</td>\n    </tr>\n    <tr>\n      <th>3</th>\n      <td>97522e57-d9ab-4bd6-97bf-c24d952602d2</td>\n      <td>disgust</td>\n      <td>2021-01-06 19:13:01</td>\n      <td>photo</td>\n      <td>studying</td>\n      <td>negative</td>\n      <td>0</td>\n    </tr>\n    <tr>\n      <th>4</th>\n      <td>97522e57-d9ab-4bd6-97bf-c24d952602d2</td>\n      <td>interested</td>\n      <td>2020-08-23 12:25:58</td>\n      <td>photo</td>\n      <td>studying</td>\n      <td>positive</td>\n      <td>30</td>\n    </tr>\n  </tbody>\n</table>\n</div>"
     },
     "execution_count": 31,
     "metadata": {},
     "output_type": "execute_result"
    }
   ],
   "source": [
    "draft_final['Category'] = draft_final['Category'].str.lower()\n",
    "draft_final.head()"
   ],
   "metadata": {
    "collapsed": false
   }
  },
  {
   "cell_type": "code",
   "execution_count": 32,
   "outputs": [
    {
     "name": "stdout",
     "output_type": "stream",
     "text": [
      "['studying', 'healthy eating', 'technology', 'food', 'cooking', 'dogs', 'soccer', 'public speaking', 'science', 'tennis', 'travel', 'fitness', 'education', 'veganism', 'animals', 'culture']\n"
     ]
    }
   ],
   "source": [
    "distinct_categories_list = draft_final['Category'].unique().tolist()\n",
    "print(distinct_categories_list)"
   ],
   "metadata": {
    "collapsed": false
   }
  },
  {
   "cell_type": "code",
   "execution_count": 36,
   "outputs": [],
   "source": [
    "category_scores = category_scores.sort_values(by='Score', ascending=False)"
   ],
   "metadata": {
    "collapsed": false
   }
  },
  {
   "cell_type": "code",
   "execution_count": 38,
   "outputs": [
    {
     "name": "stdout",
     "output_type": "stream",
     "text": [
      "Categories file created...\n",
      "Creating cleaned data file\n",
      "Cleaned data file created! Nice Garrryy\n"
     ]
    }
   ],
   "source": [
    "category_scores.to_excel('category_scores.xlsx', index=False)\n",
    "print('Categories file created...')\n",
    "print('Creating cleaned data file')\n",
    "draft_final.to_excel('cleaned.xlsx', index=False)\n",
    "print('Cleaned data file created! Nice Garrryy')"
   ],
   "metadata": {
    "collapsed": false
   }
  }
 ],
 "metadata": {
  "kernelspec": {
   "display_name": "Python 3",
   "language": "python",
   "name": "python3"
  },
  "language_info": {
   "codemirror_mode": {
    "name": "ipython",
    "version": 2
   },
   "file_extension": ".py",
   "mimetype": "text/x-python",
   "name": "python",
   "nbconvert_exporter": "python",
   "pygments_lexer": "ipython2",
   "version": "2.7.6"
  }
 },
 "nbformat": 4,
 "nbformat_minor": 0
}
